{
 "cells": [
  {
   "cell_type": "markdown",
   "metadata": {},
   "source": [
    "## Lemmatization\n",
    "Lemmatization is a natural language processing technique that involves reducing words to their base or root form, known as the lemma. The lemma represents the canonical or dictionary form of a word. Unlike stemming, which involves removing prefixes or suffixes to obtain a word's root, lemmatization considers the word's meaning and aims to transform it into its base form.\n",
    "\n",
    "For example, the lemma of the word \"running\" is \"run,\" and the lemma of \"better\" is \"good.\" Lemmatization takes into account the grammatical category or part of speech (e.g., noun, verb, adjective) of the word and produces a valid word form.\n",
    "\n",
    "Lemmatization is often used to standardize words and reduce them to a common linguistic form, which can be beneficial in tasks such as text analysis, information retrieval, and natural language understanding. The process typically requires access to a lexicon or dictionary that maps words to their corresponding lemmas and includes information about their grammatical properties."
   ]
  },
  {
   "cell_type": "code",
   "execution_count": 1,
   "metadata": {},
   "outputs": [],
   "source": [
    "from nltk.stem import WordNetLemmatizer\n",
    "\n",
    "lemmatizer = WordNetLemmatizer()\n",
    "\n"
   ]
  },
  {
   "cell_type": "code",
   "execution_count": 3,
   "metadata": {},
   "outputs": [
    {
     "data": {
      "text/plain": [
       "'eaten'"
      ]
     },
     "execution_count": 3,
     "metadata": {},
     "output_type": "execute_result"
    }
   ],
   "source": [
    "lemmatizer.lemmatize('eaten')"
   ]
  },
  {
   "cell_type": "markdown",
   "metadata": {},
   "source": [
    "'''\n",
    "POS tags\n",
    "\n",
    "Noun - n\n",
    "verb - v\n",
    "adjective - a\n",
    "adverb - r\n",
    "'''"
   ]
  },
  {
   "cell_type": "code",
   "execution_count": 4,
   "metadata": {},
   "outputs": [
    {
     "data": {
      "text/plain": [
       "'eat'"
      ]
     },
     "execution_count": 4,
     "metadata": {},
     "output_type": "execute_result"
    }
   ],
   "source": [
    "# POS tags\n",
    "lemmatizer.lemmatize('eaten', pos='v') ## Better interpretation\n"
   ]
  },
  {
   "cell_type": "markdown",
   "metadata": {},
   "source": [
    "Lets test"
   ]
  },
  {
   "cell_type": "code",
   "execution_count": 9,
   "metadata": {},
   "outputs": [],
   "source": [
    "# Sample text\n",
    "text = \"Finally, Fairly and sportingly, we have eaten the  Stemming example with the Porter stemming algorithm. This example showcases how words are reduced to their root form.\"\n"
   ]
  },
  {
   "cell_type": "code",
   "execution_count": 10,
   "metadata": {},
   "outputs": [],
   "source": [
    "from nltk.tokenize import word_tokenize\n",
    "\n",
    "docs = word_tokenize(text)"
   ]
  },
  {
   "cell_type": "code",
   "execution_count": 11,
   "metadata": {},
   "outputs": [
    {
     "name": "stdout",
     "output_type": "stream",
     "text": [
      "Finally -----> Finally\n",
      ", -----> ,\n",
      "Fairly -----> Fairly\n",
      "and -----> and\n",
      "sportingly -----> sportingly\n",
      ", -----> ,\n",
      "we -----> we\n",
      "have -----> have\n",
      "eaten -----> eat\n",
      "the -----> the\n",
      "Stemming -----> Stemming\n",
      "example -----> example\n",
      "with -----> with\n",
      "the -----> the\n",
      "Porter -----> Porter\n",
      "stemming -----> stem\n",
      "algorithm -----> algorithm\n",
      ". -----> .\n",
      "This -----> This\n",
      "example -----> example\n",
      "showcases -----> showcases\n",
      "how -----> how\n",
      "words -----> word\n",
      "are -----> be\n",
      "reduced -----> reduce\n",
      "to -----> to\n",
      "their -----> their\n",
      "root -----> root\n",
      "form -----> form\n",
      ". -----> .\n"
     ]
    }
   ],
   "source": [
    "for words in docs:\n",
    "    print(words+' -----> '+lemmatizer.lemmatize(words, pos='v'))"
   ]
  },
  {
   "cell_type": "markdown",
   "metadata": {},
   "source": [
    "### Use Cases\n",
    "\n",
    "##### Q&A\n",
    "##### Chatbots\n",
    "##### Text Summarization"
   ]
  },
  {
   "cell_type": "markdown",
   "metadata": {},
   "source": []
  }
 ],
 "metadata": {
  "kernelspec": {
   "display_name": "Python 3",
   "language": "python",
   "name": "python3"
  },
  "language_info": {
   "codemirror_mode": {
    "name": "ipython",
    "version": 3
   },
   "file_extension": ".py",
   "mimetype": "text/x-python",
   "name": "python",
   "nbconvert_exporter": "python",
   "pygments_lexer": "ipython3",
   "version": "3.10.2"
  }
 },
 "nbformat": 4,
 "nbformat_minor": 2
}
