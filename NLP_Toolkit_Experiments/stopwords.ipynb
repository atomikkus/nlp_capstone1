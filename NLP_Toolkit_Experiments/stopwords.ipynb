{
 "cells": [
  {
   "cell_type": "markdown",
   "metadata": {},
   "source": [
    "## Stopwords\n",
    "Stopwords are common words that are often removed from text data during natural language processing (NLP) tasks because they are considered to be of little value in terms of conveying meaningful information. These words are extremely common and appear frequently across various documents but do not contribute significantly to the overall meaning of the text. Examples of stopwords include articles (e.g., \"the,\" \"a,\" \"an\"), prepositions (e.g., \"in,\" \"on,\" \"at\"), conjunctions (e.g., \"and,\" \"but,\" \"or\"), and other frequently occurring words like \"is,\" \"the,\" and \"it.\"\n",
    "\n",
    "The removal of stopwords is a preprocessing step in many NLP tasks, such as text analysis, sentiment analysis, and information retrieval. By eliminating these common words, the focus can be shifted towards identifying and analyzing the more meaningful and content-bearing words in a document. This can help improve the efficiency and accuracy of various NLP algorithms.\n",
    "\n",
    "Stopword lists may vary slightly depending on the specific NLP task and the language being analyzed, but they generally consist of words that are considered to be noise in the context of the task at hand.\n"
   ]
  },
  {
   "cell_type": "code",
   "execution_count": 2,
   "metadata": {},
   "outputs": [
    {
     "name": "stderr",
     "output_type": "stream",
     "text": [
      "[nltk_data] Downloading package stopwords to\n",
      "[nltk_data]     C:\\Users\\prksh\\AppData\\Roaming\\nltk_data...\n",
      "[nltk_data]   Package stopwords is already up-to-date!\n"
     ]
    },
    {
     "data": {
      "text/plain": [
       "True"
      ]
     },
     "execution_count": 2,
     "metadata": {},
     "output_type": "execute_result"
    }
   ],
   "source": [
    "from nltk.corpus import stopwords\n",
    "from nltk.tokenize import word_tokenize, sent_tokenize\n",
    "import nltk\n",
    "nltk.download('stopwords')"
   ]
  },
  {
   "cell_type": "code",
   "execution_count": 3,
   "metadata": {},
   "outputs": [],
   "source": [
    "paragraph = \"\"\"I have three visions for India. In 3000 years of our history, people from all over \n",
    "               the world have come and invaded us, captured our lands, conquered our minds. \n",
    "               From Alexander onwards, the Greeks, the Turks, the Moguls, the Portuguese, the British,\n",
    "               the French, the Dutch, all of them came and looted us, took over what was ours. \n",
    "               Yet we have not done this to any other nation. We have not conquered anyone. \n",
    "               We have not grabbed their land, their culture, \n",
    "               their history and tried to enforce our way of life on them. \n",
    "               Why? Because we respect the freedom of others.That is why my \n",
    "               first vision is that of freedom. I believe that India got its first vision of \n",
    "               this in 1857, when we started the War of Independence. It is this freedom that\n",
    "               we must protect and nurture and build on. If we are not free, no one will respect us.\n",
    "               My second vision for India’s development. For fifty years we have been a developing nation.\n",
    "               It is time we see ourselves as a developed nation. We are among the top 5 nations of the world\n",
    "               in terms of GDP. We have a 10 percent growth rate in most areas. Our poverty levels are falling.\n",
    "               Our achievements are being globally recognised today. Yet we lack the self-confidence to\n",
    "               see ourselves as a developed nation, self-reliant and self-assured. Isn’t this incorrect?\n",
    "               I have a third vision. India must stand up to the world. Because I believe that unless India \n",
    "               stands up to the world, no one will respect us. Only strength respects strength. We must be \n",
    "               strong not only as a military power but also as an economic power. Both must go hand-in-hand. \n",
    "               My good fortune was to have worked with three great minds. Dr. Vikram Sarabhai of the Dept. of \n",
    "               space, Professor Satish Dhawan, who succeeded him and Dr. Brahm Prakash, father of nuclear material.\n",
    "               I was lucky to have worked with all three of them closely and consider this the great opportunity of my life. \n",
    "               I see four milestones in my career\"\"\""
   ]
  },
  {
   "cell_type": "code",
   "execution_count": 5,
   "metadata": {},
   "outputs": [
    {
     "name": "stdout",
     "output_type": "stream",
     "text": [
      "                                     Topic                   Speaker  \\\n",
      "0                 Finding Time for Fitness           Vinayak Dougall   \n",
      "1                 Finding Time for Fitness              Payal Bansal   \n",
      "2                 Finding Time for Fitness                Aarja Bedi   \n",
      "3                   Bone and Muscle Health       Dr. Makarand Tilloo   \n",
      "4                   Bone and Muscle Health             Madan Kataria   \n",
      "5                   Bone and Muscle Health  Himalayan Siddhaa Akshar   \n",
      "6   Exercise Regimen and Injury Prevention         Dr. Madan Kataria   \n",
      "7   Exercise Regimen and Injury Prevention           Makarand Tilloo   \n",
      "8   Exercise Regimen and Injury Prevention              Kiran Dembla   \n",
      "9                 Senior Citizen’s Fitness         Dr. Madan Kataria   \n",
      "10                Senior Citizen’s Fitness           Makarand Tilloo   \n",
      "11                Senior Citizen’s Fitness              Kiran Dembla   \n",
      "12                 Fitness and Weight Loss           Vinayak Dougall   \n",
      "13                 Fitness and Weight Loss              Payal Bansal   \n",
      "14                 Fitness and Weight Loss                Aarja Bedi   \n",
      "15                           Laughter Yoga         Dr. Madan Kataria   \n",
      "16                           Laughter Yoga           Makarand Tilloo   \n",
      "17                           Laughter Yoga  Himalayan Siddhaa Akshar   \n",
      "18                  Celebrity Fitness Talk             Gaurav Taneja   \n",
      "19                  Celebrity Fitness Talk              Vivek Mittal   \n",
      "20                  Celebrity Fitness Talk              Rohit Khatri   \n",
      "21                   Dance Fitness Session           Vinayak Dougall   \n",
      "22                   Dance Fitness Session              Payal Bansal   \n",
      "23                   Dance Fitness Session                Aarja Bedi   \n",
      "\n",
      "                         Instagram  \n",
      "0                  @vinayakdougall  \n",
      "1   @lippan_art_studio_payalbansal  \n",
      "2                     @fitwithaabi  \n",
      "3                               NA  \n",
      "4                               NA  \n",
      "5                               NA  \n",
      "6                               NA  \n",
      "7                               NA  \n",
      "8                               NA  \n",
      "9                               NA  \n",
      "10                              NA  \n",
      "11                              NA  \n",
      "12                 @vinayakdougall  \n",
      "13  @lippan_art_studio_payalbansal  \n",
      "14                    @fitwithaabi  \n",
      "15                              NA  \n",
      "16                              NA  \n",
      "17                              NA  \n",
      "18                  @taneja.gaurav  \n",
      "19                              NA  \n",
      "20             @rohitkhatrifitness  \n",
      "21                 @vinayakdougall  \n",
      "22  @lippan_art_studio_payalbansal  \n",
      "23                    @fitwithaabi  \n"
     ]
    }
   ],
   "source": [
    "import pandas as pd\n",
    "\n",
    "# Speaker data\n",
    "speaker_data = [\n",
    "    {\"Topic\": \"Finding Time for Fitness\", \"Speaker\": \"Vinayak Dougall\", \"Instagram\": \"@vinayakdougall\"},\n",
    "    {\"Topic\": \"Finding Time for Fitness\", \"Speaker\": \"Payal Bansal\", \"Instagram\": \"@lippan_art_studio_payalbansal\"},\n",
    "    {\"Topic\": \"Finding Time for Fitness\", \"Speaker\": \"Aarja Bedi\", \"Instagram\": \"@fitwithaabi\"},\n",
    "    \n",
    "    {\"Topic\": \"Bone and Muscle Health\", \"Speaker\": \"Dr. Makarand Tilloo\", \"Instagram\": \"NA\"},\n",
    "    {\"Topic\": \"Bone and Muscle Health\", \"Speaker\": \"Madan Kataria\", \"Instagram\": \"NA\"},\n",
    "    {\"Topic\": \"Bone and Muscle Health\", \"Speaker\": \"Himalayan Siddhaa Akshar\", \"Instagram\": \"NA\"},\n",
    "    \n",
    "    {\"Topic\": \"Exercise Regimen and Injury Prevention\", \"Speaker\": \"Dr. Madan Kataria\", \"Instagram\": \"NA\"},\n",
    "    {\"Topic\": \"Exercise Regimen and Injury Prevention\", \"Speaker\": \"Makarand Tilloo\", \"Instagram\": \"NA\"},\n",
    "    {\"Topic\": \"Exercise Regimen and Injury Prevention\", \"Speaker\": \"Kiran Dembla\", \"Instagram\": \"NA\"},\n",
    "    \n",
    "    {\"Topic\": \"Senior Citizen’s Fitness\", \"Speaker\": \"Dr. Madan Kataria\", \"Instagram\": \"NA\"},\n",
    "    {\"Topic\": \"Senior Citizen’s Fitness\", \"Speaker\": \"Makarand Tilloo\", \"Instagram\": \"NA\"},\n",
    "    {\"Topic\": \"Senior Citizen’s Fitness\", \"Speaker\": \"Kiran Dembla\", \"Instagram\": \"NA\"},\n",
    "    \n",
    "    {\"Topic\": \"Fitness and Weight Loss\", \"Speaker\": \"Vinayak Dougall\", \"Instagram\": \"@vinayakdougall\"},\n",
    "    {\"Topic\": \"Fitness and Weight Loss\", \"Speaker\": \"Payal Bansal\", \"Instagram\": \"@lippan_art_studio_payalbansal\"},\n",
    "    {\"Topic\": \"Fitness and Weight Loss\", \"Speaker\": \"Aarja Bedi\", \"Instagram\": \"@fitwithaabi\"},\n",
    "    \n",
    "    {\"Topic\": \"Laughter Yoga\", \"Speaker\": \"Dr. Madan Kataria\", \"Instagram\": \"NA\"},\n",
    "    {\"Topic\": \"Laughter Yoga\", \"Speaker\": \"Makarand Tilloo\", \"Instagram\": \"NA\"},\n",
    "    {\"Topic\": \"Laughter Yoga\", \"Speaker\": \"Himalayan Siddhaa Akshar\", \"Instagram\": \"NA\"},\n",
    "    \n",
    "    {\"Topic\": \"Celebrity Fitness Talk\", \"Speaker\": \"Gaurav Taneja\", \"Instagram\": \"@taneja.gaurav\"},\n",
    "    {\"Topic\": \"Celebrity Fitness Talk\", \"Speaker\": \"Vivek Mittal\", \"Instagram\": \"NA\"},\n",
    "    {\"Topic\": \"Celebrity Fitness Talk\", \"Speaker\": \"Rohit Khatri\", \"Instagram\": \"@rohitkhatrifitness\"},\n",
    "    \n",
    "    {\"Topic\": \"Dance Fitness Session\", \"Speaker\": \"Vinayak Dougall\", \"Instagram\": \"@vinayakdougall\"},\n",
    "    {\"Topic\": \"Dance Fitness Session\", \"Speaker\": \"Payal Bansal\", \"Instagram\": \"@lippan_art_studio_payalbansal\"},\n",
    "    {\"Topic\": \"Dance Fitness Session\", \"Speaker\": \"Aarja Bedi\", \"Instagram\": \"@fitwithaabi\"},\n",
    "]\n",
    "\n",
    "# Create a DataFrame\n",
    "speakers_df = pd.DataFrame(speaker_data)\n",
    "\n",
    "# Display the DataFrame\n",
    "print(speakers_df)\n"
   ]
  },
  {
   "cell_type": "code",
   "execution_count": 4,
   "metadata": {},
   "outputs": [],
   "source": [
    "speakers_df.to_csv('C:/Users/prksh/Desktop/fitness_social.csv', index=False)"
   ]
  }
 ],
 "metadata": {
  "kernelspec": {
   "display_name": "Python 3",
   "language": "python",
   "name": "python3"
  },
  "language_info": {
   "codemirror_mode": {
    "name": "ipython",
    "version": 3
   },
   "file_extension": ".py",
   "mimetype": "text/x-python",
   "name": "python",
   "nbconvert_exporter": "python",
   "pygments_lexer": "ipython3",
   "version": "3.10.2"
  }
 },
 "nbformat": 4,
 "nbformat_minor": 2
}
